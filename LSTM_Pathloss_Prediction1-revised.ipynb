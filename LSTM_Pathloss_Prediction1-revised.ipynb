{
 "cells": [
  {
   "cell_type": "code",
   "execution_count": 1,
   "id": "f6a64e9b",
   "metadata": {},
   "outputs": [],
   "source": [
    "import numpy as np \n",
    "import pandas as pd \n",
    "import pandas_datareader.data as pdr \n",
    "import matplotlib.pyplot as plt \n",
    "\n",
    "import datetime \n",
    "import torch \n",
    "import torch.nn as nn \n",
    "from torch.autograd import Variable \n",
    "\n",
    "import torch.optim as optim \n",
    "from torch.utils.data import Dataset, DataLoader\n",
    "from sklearn.metrics import accuracy_score\n",
    "device = torch.device('cuda' if torch.cuda.is_available() else 'cpu')"
   ]
  },
  {
   "cell_type": "code",
   "execution_count": 2,
   "id": "c30774cc",
   "metadata": {},
   "outputs": [
    {
     "data": {
      "text/plain": [
       "(      seq  speed  IR     dist  WA  WC\n",
       " 0     0.0     60   0  1457.01   0   1\n",
       " 1     0.1     60   0  1455.34   0   1\n",
       " 2     0.2     60   0  1453.68   0   1\n",
       " 3     0.3     60   0  1452.01   0   1\n",
       " 4     0.4     60   0  1450.35   0   1\n",
       " ..    ...    ...  ..      ...  ..  ..\n",
       " 795  79.5     60   0  1227.81   0   1\n",
       " 796  79.6     60   0  1229.48   0   1\n",
       " 797  79.7     60   0  1231.14   0   1\n",
       " 798  79.8     60   0  1232.81   0   1\n",
       " 799  79.9     60   0  1234.47   0   1\n",
       " \n",
       " [800 rows x 6 columns],\n",
       "      Pathloss\n",
       " 0     133.980\n",
       " 1     136.677\n",
       " 2     128.739\n",
       " 3     134.745\n",
       " 4     134.735\n",
       " ..        ...\n",
       " 795   131.148\n",
       " 796   131.160\n",
       " 797   131.172\n",
       " 798   131.184\n",
       " 799   131.195\n",
       " \n",
       " [800 rows x 1 columns])"
      ]
     },
     "execution_count": 2,
     "metadata": {},
     "output_type": "execute_result"
    }
   ],
   "source": [
    "df = pd.read_csv(\"/home/smsung/Downloads/MilliCar-SUMO/Test/Test_data_220120/cv_s60_i0.0_k0.0_a0.0_l_S_Highway.txt\",sep='\\t', names=['seq','speed','IR','Pathloss','dist','WA','WC','SC'])\n",
    "df2 = pd.read_csv(\"/home/smsung/Downloads/MilliCar-SUMO/Test/Test_data_220120/cv_s60_i0.0_k0.0_a0.0_l_S_Urban.txt\",sep='\\t', names=['seq','speed','IR','Pathloss','dist','WA','WC','SC'])\n",
    "\n",
    "dfplt = df['Pathloss']\n",
    "df2plt = df2['Pathloss']\n",
    "\n",
    "# dfplt.plot(figsize=(20,12), grid=True) #plotting\n",
    "# df2plt.plot(figsize=(20,12), grid=True)\n",
    "\n",
    "seq = df['seq']\n",
    "\n",
    "df = df.drop(columns='SC')\n",
    "X = df.drop(columns='Pathloss')\n",
    "y = df.iloc[:,3:4] \n",
    "\n",
    "X, y"
   ]
  },
  {
   "cell_type": "code",
   "execution_count": 3,
   "id": "5c71e985",
   "metadata": {
    "scrolled": false
   },
   "outputs": [],
   "source": [
    "# plt.rcParams[\"figure.figsize\"]  = (20,12)\n",
    "# plt.scatter(df['seq'], df['Pathloss'], s=1)\n",
    "# plt.show()"
   ]
  },
  {
   "cell_type": "code",
   "execution_count": 4,
   "id": "f31f07af",
   "metadata": {},
   "outputs": [
    {
     "name": "stdout",
     "output_type": "stream",
     "text": [
      "Training Shape (680, 6) (680, 1)\n",
      "Testing Shape (120, 6) (120, 1)\n",
      "Training Shape torch.Size([680, 1, 6]) torch.Size([680, 1])\n",
      "Testing Shape torch.Size([120, 1, 6]) torch.Size([120, 1])\n"
     ]
    }
   ],
   "source": [
    "from sklearn.preprocessing import StandardScaler, MinMaxScaler \n",
    "mm = MinMaxScaler() \n",
    "ss = StandardScaler() \n",
    "\n",
    "X_ss = ss.fit_transform(X) \n",
    "y_mm = mm.fit_transform(y) \n",
    "\n",
    "# Train Data \n",
    "X_train = X_ss[:680, :] \n",
    "X_test = X_ss[680:, :] \n",
    "\n",
    "# Test Data \n",
    "\"\"\" ( 얼마나 예측데이터와 실제 데이터의 정확도를 확인하기 위해 \n",
    "from sklearn.metrics import accuracy_score 를 통해 정확한 값으로 확인할 수 있다. ) \"\"\" \n",
    "y_train = y_mm[:680, :] \n",
    "y_test = y_mm[680:, :] \n",
    "\n",
    "print(\"Training Shape\", X_train.shape, y_train.shape) \n",
    "print(\"Testing Shape\", X_test.shape, y_test.shape)\n",
    "\n",
    "X_train_tensors = Variable(torch.Tensor(X_train)) \n",
    "X_test_tensors = Variable(torch.Tensor(X_test)) \n",
    "\n",
    "y_train_tensors = Variable(torch.Tensor(y_train)) \n",
    "y_test_tensors = Variable(torch.Tensor(y_test)) \n",
    "\n",
    "X_train_tensors_final = torch.reshape(X_train_tensors, (X_train_tensors.shape[0], 1, X_train_tensors.shape[1])) \n",
    "X_test_tensors_final = torch.reshape(X_test_tensors, (X_test_tensors.shape[0], 1, X_test_tensors.shape[1])) \n",
    "\n",
    "print(\"Training Shape\", X_train_tensors_final.shape, y_train_tensors.shape) \n",
    "print(\"Testing Shape\", X_test_tensors_final.shape, y_test_tensors.shape)\n"
   ]
  },
  {
   "cell_type": "code",
   "execution_count": 5,
   "id": "a9c8a7de",
   "metadata": {
    "scrolled": true
   },
   "outputs": [
    {
     "name": "stdout",
     "output_type": "stream",
     "text": [
      "Epoch: 0, loss: 0.38825\n",
      "Epoch: 100, loss: 0.01778\n",
      "Epoch: 200, loss: 0.00555\n",
      "Epoch: 300, loss: 0.00511\n",
      "Epoch: 400, loss: 0.00480\n",
      "Epoch: 500, loss: 0.00462\n",
      "Epoch: 600, loss: 0.00450\n",
      "Epoch: 700, loss: 0.00415\n",
      "Epoch: 800, loss: 0.00398\n",
      "Epoch: 900, loss: 0.00392\n",
      "Epoch: 1000, loss: 0.00390\n",
      "Epoch: 1100, loss: 0.00388\n",
      "Epoch: 1200, loss: 0.00386\n",
      "Epoch: 1300, loss: 0.00385\n",
      "Epoch: 1400, loss: 0.00383\n",
      "Epoch: 1500, loss: 0.00381\n",
      "Epoch: 1600, loss: 0.00380\n",
      "Epoch: 1700, loss: 0.00378\n",
      "Epoch: 1800, loss: 0.00376\n",
      "Epoch: 1900, loss: 0.00375\n",
      "MSELoss()\n"
     ]
    }
   ],
   "source": [
    "class LSTM1(nn.Module): \n",
    "    def __init__(self, num_classes, input_size, hidden_size, num_layers, seq_length): \n",
    "        super(LSTM1, self).__init__() \n",
    "        self.num_classes = num_classes #number of classes \n",
    "        self.num_layers = num_layers #number of layers \n",
    "        self.input_size = input_size #input size \n",
    "        self.hidden_size = hidden_size #hidden state \n",
    "        self.seq_length = seq_length #sequence length \n",
    "\n",
    "        self.lstm = nn.LSTM(input_size=input_size, hidden_size=hidden_size, \n",
    "                           num_layers=num_layers, batch_first=True) #lstm \n",
    "        self.fc_1 = nn.Linear(hidden_size, 256) #fully connected 1 \n",
    "        self.fc = nn.Linear(256, num_classes) #fully connected last layer \n",
    "        self.relu = nn.ReLU() \n",
    "\n",
    "    def forward(self,x): \n",
    "        h_0 = Variable(torch.zeros(self.num_layers, x.size(0), self.hidden_size)).to(device) #hidden state \n",
    "        c_0 = Variable(torch.zeros(self.num_layers, x.size(0), self.hidden_size)).to(device) #internal state \n",
    "        # Propagate input through LSTM \n",
    "        output, (hn, cn) = self.lstm(x, (h_0, c_0)) #lstm with input, hidden, and internal state \n",
    "        hn = hn.view(-1, self.hidden_size) #reshaping the data for Dense layer next \n",
    "        out = self.relu(hn) \n",
    "        out = self.fc_1(out) #first Dense \n",
    "        out = self.relu(out) #relu \n",
    "        out = self.fc(out) #Final Output \n",
    "\n",
    "        return out\n",
    "\n",
    "num_epochs = 2000 #1000 epochs\n",
    "learning_rate = 0.001 #0.001 lr\n",
    "\n",
    "input_size = 6 #number of features\n",
    "hidden_size = 2 #number of features in hidden state\n",
    "num_layers = 1 #number of stacked lstm layers\n",
    "\n",
    "num_classes = 1 #number of output classes \n",
    "\n",
    "lstm1 = LSTM1(num_classes, input_size, hidden_size, num_layers, X_train_tensors_final.shape[1]).to(device)\n",
    "\n",
    "loss_function = torch.nn.MSELoss()    # mean-squared error for regression\n",
    "optimizer = torch.optim.Adam(lstm1.parameters(), lr=learning_rate)  # adam optimizer\n",
    "\n",
    "for epoch in range(num_epochs): \n",
    "    outputs = lstm1.forward(X_train_tensors_final.to(device)) #forward pass \n",
    "    optimizer.zero_grad() #caluclate the gradient, manually setting to 0 \n",
    "\n",
    "  # obtain the loss function \n",
    "    loss = loss_function(outputs, y_train_tensors.to(device)) \n",
    "\n",
    "    loss.backward() #calculates the loss of the loss function \n",
    "\n",
    "    optimizer.step() #improve from loss, i.e backprop \n",
    "    if epoch % 100 == 0: \n",
    "        print(\"Epoch: %d, loss: %1.5f\" % (epoch, loss.item()))\n",
    "\n",
    "df_X_ss = ss.transform(df.drop(columns='Pathloss'))\n",
    "df_y_mm = mm.transform(df.iloc[:, 3:4])\n",
    "\n",
    "df_X_ss = Variable(torch.Tensor(df_X_ss)) #converting to Tensors\n",
    "df_y_mm = Variable(torch.Tensor(df_y_mm))\n",
    "\n",
    "\n",
    "#reshaping the dataset\n",
    "df_X_ss = torch.reshape(df_X_ss, (df_X_ss.shape[0], 1, df_X_ss.shape[1]))\n",
    "train_predict = lstm1(df_X_ss.to(device))#forward pass\n",
    "data_predict = train_predict.data.detach().cpu().numpy() #numpy conversion\n",
    "dataY_plot = df_y_mm.data.numpy()\n",
    "\n",
    "data_predict = mm.inverse_transform(data_predict) #reverse transformation\n",
    "dataY_plot = mm.inverse_transform(dataY_plot)\n",
    "\n",
    "# model = LSTM1()\n",
    "\n",
    "print(loss_function)\n",
    "# plt.plot(LSTM1.history['acc'])\n",
    "# plt.plot(LSTM1.history['val_acc'])\n",
    "# plt.show()\n",
    "# plt.plot(LSTM1.history['loss'])\n",
    "# plt.plot(LSTM1.history['val_loss'])\n",
    "# plt.show()\n"
   ]
  },
  {
   "cell_type": "code",
   "execution_count": 6,
   "id": "02f87522",
   "metadata": {},
   "outputs": [
    {
     "data": {
      "image/png": "[encoded data removed]",
      "text/plain": [
       "<Figure size 720x432 with 1 Axes>"
      ]
     },
     "metadata": {
      "needs_background": "light"
     },
     "output_type": "display_data"
    }
   ],
   "source": [
    "plt.rcParams[\"figure.figsize\"]  = (10,6)\n",
    "plt.axvline(x=680, c='r', linestyle='--') #size of the training set\n",
    "plt.plot(dataY_plot, label='Actuall Data') #actual plot\n",
    "plt.plot(data_predict, label='Predicted Data') #predicted plot\n",
    "plt.plot(grid = True)\n",
    "plt.title('Time-Series Prediction')\n",
    "plt.legend()\n",
    "plt.show()"
   ]
  },
  {
   "cell_type": "code",
   "execution_count": null,
   "id": "bd46830c",
   "metadata": {},
   "outputs": [],
   "source": []
  },
  {
   "cell_type": "code",
   "execution_count": null,
   "id": "3628a8d7",
   "metadata": {},
   "outputs": [],
   "source": []
  }
 ],
 "metadata": {
  "kernelspec": {
   "display_name": "Python 3",
   "language": "python",
   "name": "python3"
  },
  "language_info": {
   "codemirror_mode": {
    "name": "ipython",
    "version": 3
   },
   "file_extension": ".py",
   "mimetype": "text/x-python",
   "name": "python",
   "nbconvert_exporter": "python",
   "pygments_lexer": "ipython3",
   "version": "3.6.13"
  }
 },
 "nbformat": 4,
 "nbformat_minor": 5
}
