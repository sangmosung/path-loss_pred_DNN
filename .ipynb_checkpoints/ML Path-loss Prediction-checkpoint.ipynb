{
 "cells": [
  {
   "cell_type": "code",
   "execution_count": 4,
   "id": "0f6d0d97",
   "metadata": {},
   "outputs": [
    {
     "ename": "SyntaxError",
     "evalue": "invalid syntax (<ipython-input-4-8cff1c63eb32>, line 1)",
     "output_type": "error",
     "traceback": [
      "\u001b[0;36m  File \u001b[0;32m\"<ipython-input-4-8cff1c63eb32>\"\u001b[0;36m, line \u001b[0;32m1\u001b[0m\n\u001b[0;31m    from sklearn.model_selection\u001b[0m\n\u001b[0m                                 ^\u001b[0m\n\u001b[0;31mSyntaxError\u001b[0m\u001b[0;31m:\u001b[0m invalid syntax\n"
     ]
    }
   ],
   "source": [
    "from sklearn.model_selection \n",
    "import train_test_split from sklearn.pipeline \n",
    "import Pipeline \n",
    "import numpy as np from sklearn.metrics \n",
    "import mean_squared_error \n",
    "\n",
    "# 우선 데이터세트 로드 \n",
    "X, y = load_data() \n",
    "\n",
    "# 훈련, 테스트 데이터세트 분할 \n",
    "X_train, X_test, y_train, y_test = train_test_split(X, y, test_size=0.2, random_state=42) \n",
    "\n",
    "# 파이프라인을 통한 전처리 \n",
    "pipeline = Pipeline([ ('imputer', SimpleImputer(strategy=\"median\")), ('attribs_adder', CombinedAttributesAdder()), ('std_scaler', StandardScaler()), ]) X_train = pipeline.fit_transform(X_train) \n",
    "\n",
    "# 모델 선언 및 학습: Model은 존재하지 않는 클래스로, 알맞은 모델 클래스를 선언하면 됩니다. \n",
    "model = Model() model.fit(X_train, y_train) \n",
    "\n",
    "# 모델 테스트세트 예측 \n",
    "X_test = pipeline.transform(X_test) y_pred = model.predict(X_test) \n",
    "\n",
    "# 모델 평가: 예를 들어 MSE, RMSE 평가 기준 값입니다. \n",
    "mse = mean_squared_error(y_test, y_pred) rmse = np.sqrt(mse)\n"
   ]
  },
  {
   "cell_type": "code",
   "execution_count": null,
   "id": "06799d0f",
   "metadata": {},
   "outputs": [],
   "source": []
  }
 ],
 "metadata": {
  "kernelspec": {
   "display_name": "Python 3",
   "language": "python",
   "name": "python3"
  },
  "language_info": {
   "codemirror_mode": {
    "name": "ipython",
    "version": 3
   },
   "file_extension": ".py",
   "mimetype": "text/x-python",
   "name": "python",
   "nbconvert_exporter": "python",
   "pygments_lexer": "ipython3",
   "version": "3.6.13"
  }
 },
 "nbformat": 4,
 "nbformat_minor": 5
}
