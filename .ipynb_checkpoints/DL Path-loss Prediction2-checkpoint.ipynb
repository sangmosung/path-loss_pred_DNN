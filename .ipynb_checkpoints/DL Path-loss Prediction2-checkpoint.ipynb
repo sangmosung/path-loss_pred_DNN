{
 "cells": [
  {
   "cell_type": "code",
   "execution_count": 5,
   "id": "25addf02",
   "metadata": {},
   "outputs": [
    {
     "ename": "SyntaxError",
     "evalue": "invalid syntax (<ipython-input-5-16da1eb13ce4>, line 11)",
     "output_type": "error",
     "traceback": [
      "\u001b[0;36m  File \u001b[0;32m\"<ipython-input-5-16da1eb13ce4>\"\u001b[0;36m, line \u001b[0;32m11\u001b[0m\n\u001b[0;31m    PL = pd.get_dummies(PL)\u001b[0m\n\u001b[0m     ^\u001b[0m\n\u001b[0;31mSyntaxError\u001b[0m\u001b[0;31m:\u001b[0m invalid syntax\n"
     ]
    }
   ],
   "source": [
    "###########################\n",
    "# 라이브러리 사용\n",
    "import tensorflow as tf\n",
    "import pandas as pd\n",
    " \n",
    "###########################\n",
    "# 1.과거의 데이터를 준비합니다.\n",
    "PL = pd.read_csv(\"/home/smsung/Downloads/MilliCar-SUMO/Test/Test_data_220120/cv_s60_i0.0_k0.0_a0.0_l_S_Highway.txt\",sep='\\t', names=['seq','speed','IR','Pathloss','dist','WA','WC','SC']\n",
    "\n",
    "# 원핫인코딩\n",
    "# PL = pd.get_dummies(PL)\n",
    "\n",
    "# 종속변수 x, 독립변수 y\n",
    "x = PL[['seq','speed','IR','Pathloss','dist','WA','WC','SC']]\n",
    "y = PL[['Pathloss']]\n",
    "print(x.shape, y.shape)\n",
    " \n",
    "###########################\n",
    "# 2. 모델의 구조를 만듭니다\n",
    "X = tf.keras.layers.Input(shape=[8])\n",
    "H = tf.keras.layers.Dense(8, activation=\"tanh\")(X)\n",
    "H = tf.keras.layers.Dense(8, activation=\"tanh\")(H)\n",
    "H = tf.keras.layers.Dense(8, activation=\"tanh\")(H)\n",
    "Y = tf.keras.layers.Dense(1, activation='softmax')(H)\n",
    "model = tf.keras.models.Model(X, Y)\n",
    "model.compile(loss='categorical_crossentropy',\n",
    "              metrics=['accuracy'])\n",
    " \n",
    "# 모델 구조 확인\n",
    "model.summary()\n",
    " \n",
    "###########################\n",
    "# 3.데이터로 모델을 학습(FIT)합니다.\n",
    "model.fit(독립, 종속, epochs=100)\n",
    " \n",
    "###########################\n",
    "# 4. 모델을 이용합니다\n",
    "print(model.predict(독립[:5]))\n",
    "print(종속[:5])"
   ]
  },
  {
   "cell_type": "code",
   "execution_count": null,
   "id": "3a475aae",
   "metadata": {},
   "outputs": [],
   "source": []
  }
 ],
 "metadata": {
  "kernelspec": {
   "display_name": "Python 3",
   "language": "python",
   "name": "python3"
  },
  "language_info": {
   "codemirror_mode": {
    "name": "ipython",
    "version": 3
   },
   "file_extension": ".py",
   "mimetype": "text/x-python",
   "name": "python",
   "nbconvert_exporter": "python",
   "pygments_lexer": "ipython3",
   "version": "3.6.13"
  }
 },
 "nbformat": 4,
 "nbformat_minor": 5
}
