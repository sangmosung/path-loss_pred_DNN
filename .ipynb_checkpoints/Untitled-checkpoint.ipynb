{
 "cells": [
  {
   "cell_type": "code",
   "execution_count": 1,
   "id": "674f5f3f",
   "metadata": {},
   "outputs": [],
   "source": [
    "import pandas as pd\n",
    "from sklearn.preprocessing import OneHotEncoder\n",
    "from sklearn.compose import make_column_transformer\n",
    "from sklearn.linear_model import LinearRegression\n",
    "from sklearn.neighbors import KNeighborsRegressor\n",
    "from sklearn.tree import DecisionTreeRegressor\n",
    "from sklearn.metrics import r2_score\n",
    "import numpy as np"
   ]
  },
  {
   "cell_type": "code",
   "execution_count": 5,
   "id": "6297b465",
   "metadata": {},
   "outputs": [
    {
     "name": "stdout",
     "output_type": "stream",
     "text": [
      "     년식   종류    연비   마력    토크   연료  하이브리드   배기량    중량 변속기\n",
      "0  2015  준중형  11.8  172  21.0  가솔린      0  1999  1300  자동\n",
      "1  2015  준중형  12.3  204  27.0  가솔린      0  1591  1300  자동\n",
      "2  2015   소형  15.0  100  13.6  가솔린      0  1368  1035  수동\n",
      "3  2014   소형  14.0  140  17.0  가솔린      0  1591  1090  자동\n",
      "4  2015   대형   9.6  175  46.0   디젤      0  2497  1990  자동\n",
      "Index(['년식', '종류', '연비', '마력', '토크', '연료', '하이브리드', '배기량', '중량', '변속기'], dtype='object')\n",
      "0.7901765337159065\n",
      "[1782.73504635]\n",
      "[1898.]\n",
      "[1915.]\n"
     ]
    }
   ],
   "source": [
    "##########데이터 로드\n",
    "\n",
    "train_df = pd.read_excel('https://github.com/cranberryai/todak_todak_python/blob/master/machine_learning/regression/carprice_E1SUl6b.xlsx?raw=true', sheet_name='train')\n",
    "test_df = pd.read_excel('https://github.com/cranberryai/todak_todak_python/blob/master/machine_learning/regression/carprice_E1SUl6b.xlsx?raw=true', sheet_name='test')\n",
    "\n",
    "##########데이터 분석\n",
    "\n",
    "##########데이터 전처리\n",
    "\n",
    "x_train = train_df.drop(['가격'], axis=1)\n",
    "x_test = test_df.drop(['가격'], axis=1)\n",
    "y_train = train_df['가격']\n",
    "y_test = test_df['가격']\n",
    "\n",
    "print(x_train.head())\n",
    "'''\n",
    "     년식  종류    연비   마력    토크   연료  하이브리드   배기량    중량 변속기\n",
    "0  2015  대형   6.8  159  23.0  LPG      0  2359  1935  수동\n",
    "1  2012  소형  13.3  108  13.9  가솔린      0  1396  1035  자동\n",
    "2  2015  중형  14.4  184  41.0   디젤      0  1995  1792  자동\n",
    "3  2015  대형  10.9  175  46.0   디젤      0  2497  2210  수동\n",
    "4  2015  대형   6.4  159  23.0  LPG      0  2359  1935  자동\n",
    "'''\n",
    "print(x_train.columns) #Index(['년식', '종류', '연비', '마력', '토크', '연료', '하이브리드', '배기량', '중량', '변속기'], dtype='object')\n",
    "\n",
    "transformer = make_column_transformer(\n",
    "    (OneHotEncoder(), ['종류', '연료', '변속기']),\n",
    "    remainder='passthrough')\n",
    "transformer.fit(x_train)\n",
    "x_train = transformer.transform(x_train)\n",
    "x_test = transformer.transform(x_test)\n",
    "\n",
    "##########모델 생성\n",
    "\n",
    "model1 = LinearRegression()\n",
    "model2 = KNeighborsRegressor()\n",
    "model3 = DecisionTreeRegressor()\n",
    "\n",
    "##########모델 학습\n",
    "\n",
    "model1.fit(x_train, y_train)\n",
    "\n",
    "model2.fit(x_train, y_train)\n",
    "\n",
    "model3.fit(x_train, y_train)\n",
    "\n",
    "##########모델 검증\n",
    "\n",
    "y_predict1 = model1.predict(x_test)\n",
    "y_predict2 = model2.predict(x_test)\n",
    "y_predict3 = model3.predict(x_test)\n",
    "y_predict = (y_predict1 + y_predict2 + y_predict3) / 3 #평균\n",
    "print(r2_score(y_test, y_predict)) #0.8526379440119077\n",
    "\n",
    "##########모델 예측\n",
    "\n",
    "x_test = [\n",
    "    [2015, '대형', 6.8, 159, 23, 'LPG', 0,2359, 1935, '수동']\n",
    "]\n",
    "x_test = pd.DataFrame(x_test, columns=['년식', '종류', '연비', '마력', '토크', '연료', '하이브리드', '배기량', '중량', '변속기'])\n",
    "x_test = transformer.transform(x_test)\n",
    "\n",
    "y_predict1 = model1.predict(x_test)\n",
    "y_predict2 = model2.predict(x_test)\n",
    "y_predict3 = model3.predict(x_test)\n",
    "\n",
    "\n",
    "print(y_predict1)\n",
    "\n",
    "print(y_predict2)\n",
    "\n",
    "print(y_predict3)"
   ]
  },
  {
   "cell_type": "code",
   "execution_count": null,
   "id": "c20729d3",
   "metadata": {},
   "outputs": [],
   "source": []
  }
 ],
 "metadata": {
  "kernelspec": {
   "display_name": "Python 3",
   "language": "python",
   "name": "python3"
  },
  "language_info": {
   "codemirror_mode": {
    "name": "ipython",
    "version": 3
   },
   "file_extension": ".py",
   "mimetype": "text/x-python",
   "name": "python",
   "nbconvert_exporter": "python",
   "pygments_lexer": "ipython3",
   "version": "3.6.13"
  }
 },
 "nbformat": 4,
 "nbformat_minor": 5
}
